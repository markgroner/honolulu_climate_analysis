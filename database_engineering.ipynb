{
 "cells": [
  {
   "cell_type": "code",
   "execution_count": 1,
   "metadata": {
    "collapsed": true
   },
   "outputs": [],
   "source": [
    "import pandas as pd\n",
    "import os"
   ]
  },
  {
   "cell_type": "code",
   "execution_count": 2,
   "metadata": {
    "collapsed": true
   },
   "outputs": [],
   "source": [
    "## Read clean csv's\n",
    "clean_hawaii_measurements_path = os.path.join('Resources', 'clean_hawaii_measurements.csv')\n",
    "hawaii_measurements_df = pd.read_csv(clean_hawaii_measurements_path)\n",
    "clean_hawaii_stations_path = os.path.join('Resources', 'clean_hawaii_stations.csv')\n",
    "hawaii_stations_df = pd.read_csv(clean_hawaii_stations_path)\n"
   ]
  },
  {
   "cell_type": "code",
   "execution_count": 3,
   "metadata": {},
   "outputs": [],
   "source": [
    "## Create database\n",
    "from sqlalchemy import create_engine\n",
    "engine = create_engine('sqlite:///hawaii.sqlite')\n",
    "\n",
    "# Import and establish Base for which classes will be constructed\n",
    "from sqlalchemy.ext.declarative import declarative_base\n",
    "Base = declarative_base()\n",
    "\n",
    "# Import modules to declare columns and column data types\n",
    "from sqlalchemy import Column, Integer, String, Float, ForeignKey\n",
    "\n",
    "\n",
    "\n",
    "hawaii_measurements_df.reset_index(inplace=True)\n",
    "hawaii_measurements_df.rename(columns={'index': 'id'}, inplace=True)"
   ]
  },
  {
   "cell_type": "code",
   "execution_count": 4,
   "metadata": {
    "collapsed": true
   },
   "outputs": [],
   "source": [
    "## Define the measurement class\n",
    "class Measurement(Base):\n",
    "    __tablename__ = 'measurement'\n",
    "    id = Column(Integer, primary_key=True)\n",
    "    station = Column(String)\n",
    "    date = Column(String)\n",
    "    prcp = Column(Float)\n",
    "    tobs = Column(Integer)\n"
   ]
  },
  {
   "cell_type": "code",
   "execution_count": 5,
   "metadata": {
    "collapsed": true
   },
   "outputs": [],
   "source": [
    "## Define the stations class\n",
    "class Station(Base):\n",
    "    __tablename__ = 'station'\n",
    "    station = Column(String, ForeignKey('measurement.station'), primary_key=True)\n",
    "    name = Column(String)\n",
    "    latitude = Column(Float)\n",
    "    longitude = Column(Float)\n",
    "    elevation = Column(Float)\n"
   ]
  },
  {
   "cell_type": "code",
   "execution_count": 8,
   "metadata": {
    "collapsed": true
   },
   "outputs": [],
   "source": [
    "## create tables\n",
    "Base.metadata.create_all(engine)\n",
    "## populate tables\n",
    "hawaii_measurements_df.to_sql(name='measurement', con=engine, if_exists = 'replace', index=False)\n",
    "hawaii_stations_df.to_sql(name='station', con=engine, if_exists = 'replace', index=False)\n",
    "## commit changes\n",
    "from sqlalchemy.orm import Session\n",
    "session = Session(bind=engine)\n",
    "session.commit()"
   ]
  },
  {
   "cell_type": "code",
   "execution_count": null,
   "metadata": {
    "collapsed": true
   },
   "outputs": [],
   "source": []
  }
 ],
 "metadata": {
  "kernelspec": {
   "display_name": "Python 3",
   "language": "python",
   "name": "python3"
  },
  "language_info": {
   "codemirror_mode": {
    "name": "ipython",
    "version": 3
   },
   "file_extension": ".py",
   "mimetype": "text/x-python",
   "name": "python",
   "nbconvert_exporter": "python",
   "pygments_lexer": "ipython3",
   "version": "3.6.2"
  }
 },
 "nbformat": 4,
 "nbformat_minor": 2
}
