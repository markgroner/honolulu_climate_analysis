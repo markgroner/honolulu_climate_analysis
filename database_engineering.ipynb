{
 "cells": [
  {
   "cell_type": "code",
   "execution_count": 1,
   "metadata": {
    "collapsed": true
   },
   "outputs": [],
   "source": [
    "import pandas as pd\n",
    "import os"
   ]
  },
  {
   "cell_type": "code",
   "execution_count": 2,
   "metadata": {
    "collapsed": true
   },
   "outputs": [],
   "source": [
    "## Create database\n",
    "from sqlalchemy import create_engine\n",
    "engine = create_engine('sqlite:///hawaii.sqlite')\n",
    "\n",
    "# Import and establish Base for which classes will be constructed\n",
    "from sqlalchemy.ext.declarative import declarative_base\n",
    "Base = declarative_base()\n",
    "\n",
    "# Import modules to declare columns and column data types\n",
    "from sqlalchemy import Column, Integer, String, Float, ForeignKey, Text\n"
   ]
  },
  {
   "cell_type": "code",
   "execution_count": 3,
   "metadata": {},
   "outputs": [],
   "source": [
    "## Define the measurement class\n",
    "class Measurement(Base):\n",
    "    __tablename__ = 'measurement'\n",
    "    id = Column(Integer, primary_key=True)\n",
    "    station = Column(String)\n",
    "    date = Column(String)\n",
    "    prcp = Column(Float)\n",
    "    tobs = Column(Float)\n",
    "    \n",
    "    def __repr__(self):\n",
    "        return f'id={self.id}, name={self.station}'"
   ]
  },
  {
   "cell_type": "code",
   "execution_count": 4,
   "metadata": {},
   "outputs": [],
   "source": [
    "## Define the stations class\n",
    "class Station(Base):\n",
    "    __tablename__ = 'station'\n",
    "    station = Column(String, ForeignKey('measurement.station'), primary_key=True)\n",
    "    name = Column(String)\n",
    "    latitude = Column(Float)\n",
    "    longitude = Column(Float)\n",
    "    elevation = Column(Float)\n"
   ]
  },
  {
   "cell_type": "code",
   "execution_count": 5,
   "metadata": {},
   "outputs": [],
   "source": [
    "## create tables\n",
    "Base.metadata.create_all(engine)"
   ]
  },
  {
   "cell_type": "code",
   "execution_count": 6,
   "metadata": {
    "collapsed": true
   },
   "outputs": [],
   "source": [
    "# Use Pandas to Bulk insert each CSV file into their appropriate table\n",
    "def populate_table(engine, table, csvfile):\n",
    "    # connect to the database\n",
    "    conn = engine.connect()\n",
    "    # Load the CSV file into a pandas dataframe\n",
    "    df_of_data_to_insert = pd.read_csv(csvfile)\n",
    "    # Orient='records' creates a list of data to write\n",
    "    data = df_of_data_to_insert.to_dict(orient='records')\n",
    "    # Delete all rows in the table\n",
    "    conn.execute(table.delete())\n",
    "    # Insert the dataframe into the database in one bulk insert\n",
    "    conn.execute(table.insert(), data)\n"
   ]
  },
  {
   "cell_type": "code",
   "execution_count": 7,
   "metadata": {},
   "outputs": [],
   "source": [
    "# Call the function to insert the data for each table\n",
    "## Read clean csv's\n",
    "clean_hawaii_stations_path = os.path.join('Resources', 'clean_hawaii_stations.csv')\n",
    "clean_hawaii_measurements_path = os.path.join('Resources', 'clean_hawaii_measurements.csv')\n",
    "populate_table(engine, Station.__table__, clean_hawaii_stations_path)\n",
    "populate_table(engine, Measurement.__table__, clean_hawaii_measurements_path)"
   ]
  },
  {
   "cell_type": "code",
   "execution_count": null,
   "metadata": {
    "collapsed": true
   },
   "outputs": [],
   "source": []
  }
 ],
 "metadata": {
  "kernelspec": {
   "display_name": "Python 3",
   "language": "python",
   "name": "python3"
  },
  "language_info": {
   "codemirror_mode": {
    "name": "ipython",
    "version": 3
   },
   "file_extension": ".py",
   "mimetype": "text/x-python",
   "name": "python",
   "nbconvert_exporter": "python",
   "pygments_lexer": "ipython3",
   "version": "3.6.2"
  }
 },
 "nbformat": 4,
 "nbformat_minor": 2
}
